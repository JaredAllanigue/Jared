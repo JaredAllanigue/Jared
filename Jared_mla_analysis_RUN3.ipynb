{
  "nbformat": 4,
  "nbformat_minor": 0,
  "metadata": {
    "colab": {
      "name": "Jared - mla_analysis-RUN3.ipynb",
      "provenance": [],
      "authorship_tag": "ABX9TyPyx1XiU6IKioxXDUesZJbP",
      "include_colab_link": true
    },
    "kernelspec": {
      "name": "python3",
      "display_name": "Python 3"
    },
    "language_info": {
      "name": "python"
    },
    "accelerator": "GPU"
  },
  "cells": [
    {
      "cell_type": "markdown",
      "metadata": {
        "id": "view-in-github",
        "colab_type": "text"
      },
      "source": [
        "<a href=\"https://colab.research.google.com/github/JaredAllanigue/Jared/blob/master/Jared_mla_analysis_RUN3.ipynb\" target=\"_parent\"><img src=\"https://colab.research.google.com/assets/colab-badge.svg\" alt=\"Open In Colab\"/></a>"
      ]
    },
    {
      "cell_type": "code",
      "metadata": {
        "colab": {
          "base_uri": "https://localhost:8080/"
        },
        "id": "da8iH7XG-cyn",
        "outputId": "3dd91199-8ba4-4603-8c1d-c29ff769d523"
      },
      "source": [
        "from google.colab import drive #https://medium.com/@ashwindesilva/how-to-use-google-colaboratory-to-clone-a-github-repository-e07cf8d3d22b\n",
        "drive.mount('/content/gdrive')"
      ],
      "execution_count": null,
      "outputs": [
        {
          "output_type": "stream",
          "text": [
            "Mounted at /content/gdrive\n"
          ],
          "name": "stdout"
        }
      ]
    },
    {
      "cell_type": "code",
      "metadata": {
        "colab": {
          "base_uri": "https://localhost:8080/"
        },
        "id": "xWGvGVXg-q0K",
        "outputId": "1ed0e48f-586c-45a2-88f9-978aa730ec1b"
      },
      "source": [
        "!ls\n",
        "%cd gdrive/My Drive/Colab Notebooks"
      ],
      "execution_count": null,
      "outputs": [
        {
          "output_type": "stream",
          "text": [
            "gdrive\tsample_data\n",
            "/content/gdrive/My Drive/Colab Notebooks\n"
          ],
          "name": "stdout"
        }
      ]
    },
    {
      "cell_type": "code",
      "metadata": {
        "colab": {
          "base_uri": "https://localhost:8080/"
        },
        "id": "V0kz7jZ_-syc",
        "outputId": "8c9f5967-e660-4cd1-f412-ff35bd28c12e"
      },
      "source": [
        "!git clone https://github.com/thejevans/mla.git\n",
        "!git pull"
      ],
      "execution_count": null,
      "outputs": [
        {
          "output_type": "stream",
          "text": [
            "fatal: destination path 'mla' already exists and is not an empty directory.\n",
            "fatal: not a git repository (or any parent up to mount point /content)\n",
            "Stopping at filesystem boundary (GIT_DISCOVERY_ACROSS_FILESYSTEM not set).\n"
          ],
          "name": "stdout"
        }
      ]
    },
    {
      "cell_type": "code",
      "metadata": {
        "colab": {
          "base_uri": "https://localhost:8080/"
        },
        "id": "gGIUONMJ-uOv",
        "outputId": "6a7faa89-5a09-4ae5-a8cc-3bc10cd72976"
      },
      "source": [
        "!apt-get update\n",
        "import copy\n",
        "import numpy as np\n",
        "import matplotlib.pyplot as plt\n",
        "import numpy.lib.recfunctions as rf\n",
        "import time"
      ],
      "execution_count": null,
      "outputs": [
        {
          "output_type": "stream",
          "text": [
            "\r0% [Working]\r            \rHit:1 http://archive.ubuntu.com/ubuntu bionic InRelease\n",
            "\r0% [Connecting to security.ubuntu.com (91.189.91.39)] [Connected to cloud.r-pro\r                                                                               \rGet:2 http://archive.ubuntu.com/ubuntu bionic-updates InRelease [88.7 kB]\n",
            "\r                                                                               \rGet:3 http://archive.ubuntu.com/ubuntu bionic-backports InRelease [74.6 kB]\n",
            "\r                                                                               \rGet:4 http://ppa.launchpad.net/c2d4u.team/c2d4u4.0+/ubuntu bionic InRelease [15.9 kB]\n",
            "\r                                                                               \rHit:5 http://ppa.launchpad.net/cran/libgit2/ubuntu bionic InRelease\n",
            "\r0% [3 InRelease 74.6 kB/74.6 kB 100%] [Connecting to security.ubuntu.com (91.18\r0% [1 InRelease gpgv 242 kB] [Connecting to security.ubuntu.com (91.189.91.39)]\r                                                                               \rGet:6 http://ppa.launchpad.net/deadsnakes/ppa/ubuntu bionic InRelease [15.9 kB]\n",
            "\r0% [1 InRelease gpgv 242 kB] [Connecting to security.ubuntu.com (91.189.91.39)]\r0% [1 InRelease gpgv 242 kB] [Waiting for headers] [Waiting for headers] [Conne\r                                                                               \rGet:7 https://cloud.r-project.org/bin/linux/ubuntu bionic-cran40/ InRelease [3,626 B]\n",
            "Get:8 http://ppa.launchpad.net/graphics-drivers/ppa/ubuntu bionic InRelease [15.9 kB]\n",
            "Get:9 http://security.ubuntu.com/ubuntu bionic-security InRelease [88.7 kB]\n",
            "Ign:10 https://developer.download.nvidia.com/compute/cuda/repos/ubuntu1804/x86_64  InRelease\n",
            "Ign:11 https://developer.download.nvidia.com/compute/machine-learning/repos/ubuntu1804/x86_64  InRelease\n",
            "Get:12 https://developer.download.nvidia.com/compute/cuda/repos/ubuntu1804/x86_64  Release [697 B]\n",
            "Hit:13 https://developer.download.nvidia.com/compute/machine-learning/repos/ubuntu1804/x86_64  Release\n",
            "Get:14 https://developer.download.nvidia.com/compute/cuda/repos/ubuntu1804/x86_64  Release.gpg [836 B]\n",
            "Get:15 http://archive.ubuntu.com/ubuntu bionic-updates/multiverse amd64 Packages [31.6 kB]\n",
            "Get:16 http://archive.ubuntu.com/ubuntu bionic-updates/universe amd64 Packages [2,181 kB]\n",
            "Get:17 http://archive.ubuntu.com/ubuntu bionic-updates/main amd64 Packages [2,546 kB]\n",
            "Get:18 http://archive.ubuntu.com/ubuntu bionic-updates/restricted amd64 Packages [426 kB]\n",
            "Get:19 http://ppa.launchpad.net/c2d4u.team/c2d4u4.0+/ubuntu bionic/main Sources [1,759 kB]\n",
            "Get:20 http://ppa.launchpad.net/c2d4u.team/c2d4u4.0+/ubuntu bionic/main amd64 Packages [900 kB]\n",
            "Get:21 http://ppa.launchpad.net/deadsnakes/ppa/ubuntu bionic/main amd64 Packages [40.3 kB]\n",
            "Get:22 https://cloud.r-project.org/bin/linux/ubuntu bionic-cran40/ Packages [53.9 kB]\n",
            "Get:23 http://ppa.launchpad.net/graphics-drivers/ppa/ubuntu bionic/main amd64 Packages [53.2 kB]\n",
            "Get:24 http://security.ubuntu.com/ubuntu bionic-security/universe amd64 Packages [1,410 kB]\n",
            "Ign:26 https://developer.download.nvidia.com/compute/cuda/repos/ubuntu1804/x86_64  Packages\n",
            "Get:27 http://security.ubuntu.com/ubuntu bionic-security/restricted amd64 Packages [396 kB]\n",
            "Get:26 https://developer.download.nvidia.com/compute/cuda/repos/ubuntu1804/x86_64  Packages [742 kB]\n",
            "Get:28 http://security.ubuntu.com/ubuntu bionic-security/main amd64 Packages [2,116 kB]\n",
            "Get:29 http://security.ubuntu.com/ubuntu bionic-security/multiverse amd64 Packages [24.7 kB]\n",
            "Fetched 13.0 MB in 3s (4,034 kB/s)\n",
            "Reading package lists... Done\n"
          ],
          "name": "stdout"
        }
      ]
    },
    {
      "cell_type": "code",
      "metadata": {
        "colab": {
          "base_uri": "https://localhost:8080/"
        },
        "id": "mbWZpFsF-wLL",
        "outputId": "a0d2a4f2-6315-4094-c9e8-690ec64caf5b"
      },
      "source": [
        "import os\n",
        "import sys\n",
        "# Install a pip package in the current Jupyter kernel\n",
        "import sys\n",
        "!{sys.executable} -m pip install ./mla\n",
        "import mla"
      ],
      "execution_count": null,
      "outputs": [
        {
          "output_type": "stream",
          "text": [
            "Processing ./mla\n",
            "Requirement already satisfied: numpy in /usr/local/lib/python3.7/dist-packages (from mla-thejevans==0.0.1) (1.19.5)\n",
            "Requirement already satisfied: scipy in /usr/local/lib/python3.7/dist-packages (from mla-thejevans==0.0.1) (1.4.1)\n",
            "Building wheels for collected packages: mla-thejevans\n",
            "  Building wheel for mla-thejevans (setup.py) ... \u001b[?25l\u001b[?25hdone\n",
            "  Created wheel for mla-thejevans: filename=mla_thejevans-0.0.1-cp37-none-any.whl size=28965 sha256=5c602714ecca9985d1e87cf911149768af635192be7e59326696798140977492\n",
            "  Stored in directory: /tmp/pip-ephem-wheel-cache-6hdfn4zr/wheels/48/f2/be/65c47eacad45df29bced6b9de424c771a45ef8993e1e928337\n",
            "Successfully built mla-thejevans\n",
            "Installing collected packages: mla-thejevans\n",
            "Successfully installed mla-thejevans-0.0.1\n"
          ],
          "name": "stdout"
        }
      ]
    },
    {
      "cell_type": "code",
      "metadata": {
        "colab": {
          "base_uri": "https://localhost:8080/",
          "height": 769
        },
        "id": "a3GHhlnD-0-7",
        "outputId": "d2e51f4a-00f1-4954-def0-a875d96f9fb1"
      },
      "source": [
        "import glob\n",
        "def read_npy(filelist):\n",
        "    data = []\n",
        "    for f in sorted(filelist):\n",
        "        x = np.load(f)\n",
        "        if len(data) == 0: data = x.copy()\n",
        "        else: data = np.concatenate([data, x])\n",
        "    return data\n",
        "\n",
        "def read_csv(filelist):\n",
        "    np_dtype = np.float64\n",
        "    my_names = ['time', 'logE', 'angErr', 'ra', 'dec', 'azi', 'zen']\n",
        "    convert = lambda x: np.radians(float(x))\n",
        "    data = []\n",
        "    for f in sorted(filelist):\n",
        "        x = np.genfromtxt(f, names=my_names, dtype=np_dtype, skip_header = 1,\n",
        "                        converters={2: convert, 3: convert, 4: convert, 5: convert, 6: convert})\n",
        "        if len(data) == 0: data = x.copy()\n",
        "        else: data = np.concatenate([data, x])\n",
        "    return data[np.argsort(data['time'])]\n",
        "\n",
        "def read_uptime_csv(filelist):\n",
        "    np_dtype = np.float64\n",
        "    my_names = ['start', 'stop']\n",
        "    data = []\n",
        "    for f in sorted(filelist):\n",
        "        x = np.genfromtxt(f, names=my_names, dtype=np_dtype, skip_header = 1)\n",
        "        if len(data) == 0: data = x.copy()\n",
        "        else: data = np.concatenate([data, x])\n",
        "    return data[np.argsort(data['start'])]\n",
        "\n",
        "def read_mc(file, n_keep = 50000):\n",
        "    sim = np.load(file)\n",
        "    # Reduce the number of events in the simulation\n",
        "    # to a manageable level.\n",
        "    N = len(sim)\n",
        "    sim = np.random.choice(sim, n_keep)    # cut down to n_keep events\n",
        "    sim['ow'] /= float(n_keep)/float(N)    # correct the weights\n",
        "    print(\"Reduced the number of simulation events from \",\n",
        "         \"{} to {}\".format(N, len(sim)))\n",
        "    # Show the possible keys available here:\n",
        "    print(\"Keys available in simulation:\")\n",
        "    print(sorted(sim.dtype.names))\n",
        "    print()\n",
        "    return sim\n",
        "\n",
        "# Fix the 7yr data release good run lists, add livetime, events per run, and a psudeo-run number\n",
        "def fix_grl(data,raw_grl):\n",
        "    grl_run_index, counts = np.unique(np.searchsorted(raw_grl['start'], data['time']), return_counts=True)\n",
        "    pad_counts = np.zeros(len(raw_grl),dtype=int)\n",
        "    for idx,thiscnt in zip(grl_run_index,counts):\n",
        "        #print(idx,thiscnt)\n",
        "        pad_counts[idx-1] = int(thiscnt)\n",
        "    #print(pad_counts)\n",
        "    plt.hist(np.log10(counts),100,log=True)\n",
        "    plt.xlabel('log10(counts)')\n",
        "    plt.title('Event count per run')\n",
        "\n",
        "    livetime = raw_grl['stop'] - raw_grl['start']\n",
        "    run_number = range(len(raw_grl))\n",
        "    new_grl = rf.append_fields(raw_grl, ['events','livetime','run'], [pad_counts,livetime,run_number])\n",
        "    return new_grl\n",
        "\n",
        "#1 year data file from npy file\n",
        "DATA_PATH = \"./Datasets/old_npy_data\"#\"/home/jovyan/pointsource_tutorial/data2\" #Look up how to path on Colab, https://www.marktechpost.com/2019/06/07/how-to-connect-google-colab-with-google-drive/\n",
        "data_file_1 = DATA_PATH + \"/IC86_*_exp.npy\"\n",
        "#data = read_npy(glob.glob(data_file_1))\n",
        "\n",
        "# 7 year data from CSV files\n",
        "DATA2_PATH = \"./Datasets/icecube_10year_ps\" #\"/home/jovyan/pointsource_tutorial/data_7yr\" #*\n",
        "data_files = DATA2_PATH + \"/events/IC86_*_exp.csv\"\n",
        "print(glob.glob(data_files))\n",
        "data = read_csv(glob.glob(data_files))\n",
        "\n",
        "print(\"Keys available in data:\")\n",
        "print(data.dtype.names)\n",
        "print('Data NEvents:',len(data))\n",
        "print(data)\n",
        "print()\n",
        "\n",
        "# Read in the MC files - these are the same regardless of data files \n",
        "sim_files = DATA_PATH + \"/IC86_2012_MC.npy\"\n",
        "sim = read_mc(sim_files, n_keep=250000)\n",
        "print('Sim NEvents:',len(sim))\n",
        "print(sim.dtype.names)\n",
        "print()\n",
        "\n",
        "# Read in the GRL file\n",
        "# 1 year data\n",
        "#grl = np.load(DATA_PATH + \"/IC86_2012_GRL.npy\")\n",
        "# 7 yr data\n",
        "grl_files = DATA2_PATH + \"/uptime/IC86_*_exp.csv\"\n",
        "raw_grl = read_uptime_csv(glob.glob(grl_files))\n",
        "grl = fix_grl(data=data,raw_grl=raw_grl)\n",
        "print(\"Keys available in GRL:\")\n",
        "print(grl.dtype.names)\n",
        "print(grl)"
      ],
      "execution_count": null,
      "outputs": [
        {
          "output_type": "stream",
          "text": [
            "['./Datasets/icecube_10year_ps/events/IC86_III_exp.csv', './Datasets/icecube_10year_ps/events/IC86_II_exp.csv', './Datasets/icecube_10year_ps/events/IC86_VI_exp.csv', './Datasets/icecube_10year_ps/events/IC86_I_exp.csv', './Datasets/icecube_10year_ps/events/IC86_IV_exp.csv', './Datasets/icecube_10year_ps/events/IC86_V_exp.csv', './Datasets/icecube_10year_ps/events/IC86_VII_exp.csv']\n",
            "Keys available in data:\n",
            "('time', 'logE', 'angErr', 'ra', 'dec', 'azi', 'zen')\n",
            "Data NEvents: 897406\n",
            "[(55694.99190986, 4.55, 0.00349066, 4.2346051 , -0.3948982 , 1.32062083, 1.17533962)\n",
            " (55694.99825262, 2.96, 0.01570796, 4.80188946,  0.68259827, 0.79477058, 2.25346441)\n",
            " (55695.00023207, 2.87, 0.00837758, 1.61364416,  0.08201302, 3.99456997, 1.65272208)\n",
            " ...\n",
            " (58307.96355617, 2.88, 0.00523599, 5.37783066,  0.74251542, 0.96755818, 2.31441131)\n",
            " (58307.96397167, 2.98, 0.00366519, 5.79796632,  0.78051124, 0.54958673, 2.35289582)\n",
            " (58307.97260325, 3.28, 0.00436332, 3.72294437,  0.0821701 , 2.6782601 , 1.65141308)]\n",
            "\n",
            "Reduced the number of simulation events from  11595414 to 250000\n",
            "Keys available in simulation:\n",
            "['angErr', 'azi', 'dec', 'event', 'logE', 'ow', 'ra', 'run', 'subevent', 'time', 'trueDec', 'trueE', 'trueRa', 'zen']\n",
            "\n",
            "Sim NEvents: 250000\n",
            "('run', 'event', 'subevent', 'ra', 'dec', 'azi', 'zen', 'time', 'trueRa', 'trueDec', 'trueE', 'logE', 'angErr', 'ow')\n",
            "\n",
            "Keys available in GRL:\n",
            "('start', 'stop', 'events', 'livetime', 'run')\n",
            "[(55694.99047453, 55695.32498842, 145, 0.33451388999674236, 0)\n",
            " (55695.32548611, 55695.66137731, 132, 0.3358912000039709, 1)\n",
            " (55695.66188657, 55695.99623842, 123, 0.33435184999689227, 2) ...\n",
            " (58308.64268518, 58308.96300925, 0, 0.3203240700022434, 9196)\n",
            " (58308.96431712, 58309.0208912, 0, 0.05657408000115538, 9197)\n",
            " (58309.02457175, 58309.08234953, 0, 0.057777779999014456, 9198)]\n"
          ],
          "name": "stdout"
        },
        {
          "output_type": "display_data",
          "data": {
            "image/png": "[encoded data removed]",
            "text/plain": [
              "<Figure size 432x288 with 1 Axes>"
            ]
          },
          "metadata": {
            "tags": [],
            "needs_background": "light"
          }
        }
      ]
    },
    {
      "cell_type": "code",
      "metadata": {
        "id": "eDuw6EFj-5An"
      },
      "source": [
        "#PSO J0309+27\n",
        "#RA 03h 09m 47.49s\n",
        "#DEC+27° 17′ 57.31″\n",
        "#Calculate in degreess\n",
        "ra_pso = (3+(9+(47.49/60.0))/60.0)*(360.0/24.0)\n",
        "dec_pso = 27.0 +(17+(57.31/60.0))/60.0\n",
        "\n",
        "source2 = mla.sources.Source(\n",
        "    name=\"PSO J0309\",\n",
        "    ra=np.deg2rad(ra_pso),\n",
        "    dec=np.deg2rad(dec_pso)\n",
        ")\n",
        "\n",
        "source = mla.sources.Source(\n",
        "    name=\"TXS\",\n",
        "    ra=np.deg2rad(77.3583),\n",
        "    dec=np.deg2rad(5.6931)\n",
        ")"
      ],
      "execution_count": null,
      "outputs": []
    },
    {
      "cell_type": "code",
      "metadata": {
        "colab": {
          "base_uri": "https://localhost:8080/"
        },
        "id": "VyOreaEX-7sv",
        "outputId": "f17e8941-154a-401a-df8a-6441f9a519af"
      },
      "source": [
        "# TXS analysis for 158 days at known published neutrino flare time\n",
        "#start = 56224\n",
        "#length = 158\n",
        "\n",
        "# Use all the data.  Use the GRL info\n",
        "start = grl['start'][0]\n",
        "length = grl[len(grl)-1][1] - start\n",
        "\n",
        "print('Time window of: ', length, ' starting at MJD:', start)\n",
        "\n",
        "\n",
        "background_time_profile = mla.time_profiles.UniformProfile(start, length)\n",
        "signal_time_profile = mla.time_profiles.UniformProfile(start, length)\n",
        "\n",
        "model = mla.models.I3EventModel(\n",
        "    source=source,\n",
        "    data=data,\n",
        "    sim=sim,\n",
        "    grl=grl,\n",
        "    gamma=-2,\n",
        "    background_time_profile=background_time_profile,\n",
        "    signal_time_profile=signal_time_profile,\n",
        "    sampling_width=np.radians(5),\n",
        "    withinwindow=True,\n",
        ")"
      ],
      "execution_count": null,
      "outputs": [
        {
          "output_type": "stream",
          "text": [
            "Time window of:  2614.0918749999983  starting at MJD: 55694.99047453\n"
          ],
          "name": "stdout"
        }
      ]
    },
    {
      "cell_type": "code",
      "metadata": {
        "id": "KJpXiTm7_APn"
      },
      "source": [
        "bg_fit_time_pro = copy.deepcopy(background_time_profile)\n",
        "sig_fit_time_pro = copy.deepcopy(signal_time_profile)\n",
        "        \n",
        "ts = mla.test_statistics.LLHTestStatistic([\n",
        "    mla.test_statistics.SpatialTerm(),\n",
        "    mla.test_statistics.TimeTerm(\n",
        "        bg_fit_time_pro,\n",
        "        sig_fit_time_pro,\n",
        "    ),\n",
        "    mla.test_statistics.I3EnergyTerm(gamma=-2),\n",
        "])"
      ],
      "execution_count": null,
      "outputs": []
    },
    {
      "cell_type": "code",
      "metadata": {
        "id": "sam-oI4Z_CG6"
      },
      "source": [
        "analysis = mla.analysis.Analysis(\n",
        "    model=model,\n",
        "    test_statistic=ts,\n",
        "    source=source,\n",
        ")"
      ],
      "execution_count": null,
      "outputs": []
    },
    {
      "cell_type": "code",
      "metadata": {
        "colab": {
          "base_uri": "https://localhost:8080/",
          "height": 498
        },
        "id": "9CVv9adC_D01",
        "outputId": "7d8565b3-00c3-48d0-a9be-7c8bf1fefc76"
      },
      "source": [
        "trial = mla.analysis.produce_trial(\n",
        "    analysis,\n",
        "    #n_signal_observed=20,\n",
        "    flux_norm=1e-11\n",
        ")\n",
        "print(len(trial))\n",
        "print(trial)\n",
        "print(trial.dtype.names)\n",
        "# Plot the trial events\n",
        "plt.scatter(trial['time'], trial['logE'])\n",
        "plt.xlabel('time (MJD)')\n",
        "plt.ylabel(r'$log_{10}E$')\n",
        "plt.show()\n",
        "\n",
        "# Generate parameter array for minimizing\n",
        "## Here: minimize both spectral index (gamma) and n_s\n",
        "#test_params = mla.generate_params(\n",
        "#            gamma=-2,\n",
        "#            ns=90,\n",
        "#        )\n",
        "#bounds = [(-4, -1), (0, 150)]\n",
        "\n",
        "## Here: just miminize n_s\n",
        "test_params = mla.generate_params(\n",
        "            ns=90\n",
        ")\n",
        "bounds = [(0, 150)]\n",
        "\n",
        "#result = mla.analysis.minimize_ts(\n",
        "#    analysis=analysis,\n",
        "#    events=trial,\n",
        "#    bounds=bounds,\n",
        "#    test_params=test_params,\n",
        "#    as_array=True,\n",
        "\n",
        "print(data.dtype.names)\n",
        "sin_dec = np.sin(data['dec'])\n",
        "new_data = rf.append_fields(data, 'sindec', sin_dec)\n",
        "print(new_data.dtype.names)\n",
        "txs_res = mla.analysis.minimize_ts(\n",
        "    analysis=analysis,\n",
        "    events=new_data,\n",
        "    bounds=bounds,\n",
        "    test_params=test_params,\n",
        "    as_array=True,\n",
        ")    \n",
        "\n",
        "\n",
        "print(txs_res)\n",
        "txs_ts = txs_res[0][0]\n",
        "txs_ns = txs_res[0][1]\n",
        "print(txs_ts,txs_ns)\n",
        "# result = TS , # interesting events"
      ],
      "execution_count": null,
      "outputs": [
        {
          "output_type": "stream",
          "text": [
            "897447\n",
            "[(57470.64125851432, 3.17, 0.005061454830783556, 2.6312941591894106, 0.4801226239311201, 1.493408427761468, 2.0506396980456976, 0.46188793887372415)\n",
            " (56394.61630913713, 4.24, 0.016231562043547264, 1.7752522002782567, -0.5845282197854209, 1.2202643998243554, 0.9860935740842763, -0.5518059920247202)\n",
            " (57162.20631296248, 3.05, 0.02757620218151041, 6.168194405749838, 0.28483773392547457, 1.0955780780618805, 1.8565416319314083, 0.281001727065251)\n",
            " ...\n",
            " (56480.57312445703, 4.996935889343277, 0.00294998078416457, 1.347484562459104, 0.09617219917203539, 4.8046032908594976, 1.6134105717278162, 0.09602401679829921)\n",
            " (55894.21874381766, 3.956342381893846, 0.007731271820804506, 1.3521973387129846, 0.09303329364361655, 0.2536350209038605, 1.7266406333391189, 0.09289914817961537)\n",
            " (58204.86576067241, 2.9735691290824575, 0.007935525606157857, 1.3433110730236564, 0.0998438940125645, 1.9328908110999348, 1.6023452810303715, 0.09967808932331162)]\n",
            "('time', 'logE', 'angErr', 'ra', 'dec', 'azi', 'zen', 'sindec')\n"
          ],
          "name": "stdout"
        },
        {
          "output_type": "display_data",
          "data": {
            "image/png": "[encoded data removed]",
            "text/plain": [
              "<Figure size 432x288 with 1 Axes>"
            ]
          },
          "metadata": {
            "tags": [],
            "needs_background": "light"
          }
        },
        {
          "output_type": "stream",
          "text": [
            "('time', 'logE', 'angErr', 'ra', 'dec', 'azi', 'zen')\n",
            "('time', 'logE', 'angErr', 'ra', 'dec', 'azi', 'zen', 'sindec')\n",
            "[(15.13374261, 12.12679719)]\n",
            "15.133742608906445 12.126797188015718\n"
          ],
          "name": "stdout"
        }
      ]
    },
    {
      "cell_type": "code",
      "metadata": {
        "colab": {
          "base_uri": "https://localhost:8080/"
        },
        "id": "p2MZC7oN_F3e",
        "outputId": "e575cac7-9ba2-4dc0-ad46-b1afe2ea77f1"
      },
      "source": [
        "results = mla.produce_and_minimize(\n",
        "    analysis=analysis,\n",
        "    n_trials=10,\n",
        "    #n_signal_observed=50,\n",
        "    flux_norm=1e-11,\n",
        "    bounds=bounds,\n",
        "    test_params=test_params,\n",
        "    as_array=True,\n",
        ")\n",
        "\n",
        "for result in results:\n",
        "    print(result)\n",
        "    \n",
        "(ts,ns) = zip(*results)\n",
        "print(np.mean(ts),np.mean(ns))"
      ],
      "execution_count": null,
      "outputs": [
        {
          "output_type": "stream",
          "text": [
            "(2.69417152, 5.12649963)\n",
            "(0.65679052, 1.79488176)\n",
            "(3.67815442, 4.80708944)\n",
            "(20.08606872, 8.125217)\n",
            "(11.458756, 11.4104307)\n",
            "(0., 0.)\n",
            "(12.6677344, 7.93174479)\n",
            "(12.09625968, 3.77530442)\n",
            "(10.09686435, 7.20022126)\n",
            "(11.95712927, 11.63320839)\n",
            "8.539192889258622 6.180459739101383\n"
          ],
          "name": "stdout"
        }
      ]
    },
    {
      "cell_type": "code",
      "metadata": {
        "colab": {
          "base_uri": "https://localhost:8080/"
        },
        "id": "QaEiSVOW_HuO",
        "outputId": "2c7b27c0-bf23-446f-f495-8e61e0c10e58"
      },
      "source": [
        "#Produce and minimize trials, then plot the ts distribution\n",
        "\n",
        "# :)\n",
        "\n",
        "#Get a timestamp before running to use later\n",
        "t_initial = time.time()\n",
        "\n",
        "exponent1=-11.1\n",
        "exponent2=-10.9\n",
        "exponent3=-10.8\n",
        "exponent4=-10.7\n",
        "exponent5=-10.6\n",
        "exponent6=-10.5\n",
        "\n",
        "\n",
        "#Producing trials at different flux levels\n",
        "\n",
        "print(\"Producing 1000 trials, flux normalization = 10^-11.1\")\n",
        "best_fit_arr_111 = mla.produce_and_minimize(\n",
        "    analysis=analysis,\n",
        "    n_trials=500,\n",
        "    flux_norm=10**exponent1,\n",
        "    #n_signal_observed=50,\n",
        "    bounds=bounds,\n",
        "    test_params=test_params,\n",
        "    as_array=True,\n",
        ")\n",
        "\n",
        "print(\"Producing 1000 trials, flux normalization = 10^-11\")\n",
        "best_fit_arr_11 = mla.produce_and_minimize(\n",
        "    analysis=analysis,\n",
        "    n_trials=500,\n",
        "    flux_norm=1e-11,\n",
        "    #n_signal_observed=50,\n",
        "    bounds=bounds,\n",
        "    test_params=test_params,\n",
        "    as_array=True,\n",
        ")\n",
        "\n",
        "print(\"Producing 1000 trials, flux normalization = 10^-10.9\")\n",
        "best_fit_arr_109 = mla.produce_and_minimize(\n",
        "    analysis=analysis,\n",
        "    n_trials=500,\n",
        "    flux_norm=10**exponent2,\n",
        "    #n_signal_observed=10,\n",
        "    bounds=bounds,\n",
        "    test_params=test_params,\n",
        "    as_array=True,\n",
        ")\n",
        "\n",
        "print(\"Producing 1000 trials, flux normalization = 10^-10.8\")\n",
        "best_fit_arr_108 = mla.produce_and_minimize(\n",
        "    analysis=analysis,\n",
        "    n_trials=500,\n",
        "    flux_norm=10**exponent3,\n",
        "    #n_signal_observed=5,\n",
        "    bounds=bounds,\n",
        "    test_params=test_params,\n",
        "    as_array=True,\n",
        ")\n",
        "\n",
        "print(\"Producing 1000 trials, flux normalization = 10^-10.7\")\n",
        "best_fit_arr_107 = mla.produce_and_minimize(\n",
        "    analysis=analysis,\n",
        "    n_trials=500,\n",
        "    flux_norm=10**exponent4,\n",
        "    #n_signal_observed=10,\n",
        "    bounds=bounds,\n",
        "    test_params=test_params,\n",
        "    as_array=True,\n",
        ")\n",
        "\n",
        "print(\"Producing 1000 trials, flux normalization = 10^-10.6\")\n",
        "best_fit_arr_106 = mla.produce_and_minimize(\n",
        "    analysis=analysis,\n",
        "    n_trials=500,\n",
        "    flux_norm=10**exponent5,\n",
        "    #n_signal_observed=10,\n",
        "    bounds=bounds,\n",
        "    test_params=test_params,\n",
        "    as_array=True,\n",
        ")\n",
        "\n",
        "print(\"Producing 1000 trials, flux normalization = 10^-10.5\")\n",
        "best_fit_arr_105 = mla.produce_and_minimize(\n",
        "    analysis=analysis,\n",
        "    n_trials=500,\n",
        "    flux_norm=10**exponent6,\n",
        "    #n_signal_observed=10,\n",
        "    bounds=bounds,\n",
        "    test_params=test_params,\n",
        "    as_array=True,\n",
        ")\n",
        "\n",
        "\n",
        "#Producing background only trials at a flux level of 0\n",
        "\n",
        "print(\"Producing 10000 bg only trials\")\n",
        "best_fit_arr_bg = mla.produce_and_minimize(\n",
        "    analysis=analysis,\n",
        "    n_trials=2500,\n",
        "    #n_signal_observed=0,\n",
        "    flux_norm=0,\n",
        "    bounds=bounds,\n",
        "    test_params=test_params,\n",
        "    as_array=True,\n",
        ")\n",
        "\n",
        "#Get another timestamp and see how long the simulation took\n",
        "t_final = time.time()\n",
        "t_total = t_final - t_initial\n",
        "time_format = time.strftime(\"%H:%M:%S\", time.gmtime(t_total))\n",
        "#tri_tot = (5 * n_inj_trials) + n_bkg_trials\n",
        "print('\\n')\n",
        "print(\"This simulation took \" + time_format)\n",
        "      #+ \" to complete \" + str(tri_tot) + \" trials.\")\n",
        "print(t_total)"
      ],
      "execution_count": null,
      "outputs": [
        {
          "output_type": "stream",
          "text": [
            "Producing 1000 trials, flux normalization = 10^-11.1\n",
            "Producing 1000 trials, flux normalization = 10^-11\n",
            "Producing 1000 trials, flux normalization = 10^-10.9\n",
            "Producing 1000 trials, flux normalization = 10^-10.8\n",
            "Producing 1000 trials, flux normalization = 10^-10.7\n",
            "Producing 1000 trials, flux normalization = 10^-10.6\n",
            "Producing 1000 trials, flux normalization = 10^-10.5\n",
            "Producing 10000 bg only trials\n",
            "\n",
            "\n",
            "This simulation took 04:47:26\n",
            "17246.595084428787\n"
          ],
          "name": "stdout"
        }
      ]
    },
    {
      "cell_type": "code",
      "metadata": {
        "id": "T50mREem_V5_"
      },
      "source": [
        "ts_bg, ns_bg = zip(*best_fit_arr_bg)\n",
        "ts_111, ns_111 = zip(*best_fit_arr_111)\n",
        "ts_11, ns_11 = zip(*best_fit_arr_11)\n",
        "ts_109, ns_109 = zip(*best_fit_arr_109)\n",
        "ts_108, ns_108 = zip(*best_fit_arr_108)\n",
        "ts_107, ns_107 = zip(*best_fit_arr_107)\n",
        "ts_106, ns_106 = zip(*best_fit_arr_106)\n",
        "ts_105, ns_105 = zip(*best_fit_arr_105)\n",
        "#Splitting up the trial information into ts and ns components"
      ],
      "execution_count": null,
      "outputs": []
    },
    {
      "cell_type": "code",
      "metadata": {
        "colab": {
          "base_uri": "https://localhost:8080/",
          "height": 398
        },
        "id": "JO2OtidF_X3y",
        "outputId": "47e83a76-f86f-4115-f02f-034157ec4a53"
      },
      "source": [
        "#Plot the signal and background TS\n",
        "fig, ax = plt.subplots(figsize=(10,6))\n",
        "bins = np.linspace(0, 80, 150)\n",
        "\n",
        "ax.hist(ts_bg,\n",
        "        bins = bins,\n",
        "        weights = np.ones_like(ts_bg)/len(ts_bg),\n",
        "        histtype = 'step',\n",
        "        color = 'k',\n",
        "        linewidth = 3,\n",
        "        alpha=0.5,\n",
        "        label = r'Flux = 0',\n",
        "       )\n",
        "\n",
        "ax.hist(ts_111,\n",
        "        bins = bins,\n",
        "        weights = np.ones_like(ts_111)/len(ts_111),\n",
        "        histtype = 'step',\n",
        "        linewidth = 3,\n",
        "        alpha = 0.7,\n",
        "        label = r'Flux = 10^-11.1')\n",
        "\n",
        "ax.hist(ts_11,\n",
        "        bins = bins,\n",
        "        weights = np.ones_like(ts_11)/len(ts_11),\n",
        "        histtype = 'step',\n",
        "        linewidth = 3,\n",
        "        alpha = 0.7,\n",
        "        label = r'Flux = 10^-11')\n",
        "\n",
        "ax.hist(ts_109,\n",
        "        bins = bins,\n",
        "        weights = np.ones_like(ts_109)/len(ts_109),\n",
        "        histtype = 'step',\n",
        "        linewidth = 3,\n",
        "        alpha = 0.7,\n",
        "        label = r'Flux = 10^-10.9')\n",
        "\n",
        "ax.hist(ts_108,\n",
        "        bins = bins,\n",
        "        weights = np.ones_like(ts_108)/len(ts_108),\n",
        "        histtype = 'step',\n",
        "        linewidth = 3,\n",
        "        alpha = 0.7,\n",
        "        label = r'Flux = 10^-10.8')\n",
        "\n",
        "ax.hist(ts_107,\n",
        "        bins = bins,\n",
        "        weights = np.ones_like(ts_107)/len(ts_107),\n",
        "        histtype = 'step',\n",
        "        linewidth = 3,\n",
        "        alpha = 0.7,\n",
        "        label = r'Flux = 10^-10.7')\n",
        "\n",
        "ax.hist(ts_106,\n",
        "        bins = bins,\n",
        "        weights = np.ones_like(ts_106)/len(ts_106),\n",
        "        histtype = 'step',\n",
        "        linewidth = 3,\n",
        "        alpha = 0.7,\n",
        "        label = r'Flux = 10^-10.6')\n",
        "\n",
        "ax.hist(ts_105,\n",
        "        bins = bins,\n",
        "        weights = np.ones_like(ts_105)/len(ts_105),\n",
        "        histtype = 'step',\n",
        "        linewidth = 3,\n",
        "        alpha = 0.7,\n",
        "        label = r'Flux = 10^-10.5')\n",
        "\n",
        "ax.vlines(txs_ts, 0, 2.0, label = r'Unblinded value: {}'.format(round(txs_ts,2)),colors=['blue'])\n",
        "ax.legend(loc='upper right', fontsize=12,)\n",
        "plt.yscale('log')\n",
        "ax.grid(alpha=0.25)\n",
        "#ax.set_xlim(bins.min(), bins.max())\n",
        "ax.set_xlabel(\"TS\", fontsize=16)\n",
        "ax.set_ylabel(\"Fraction of Trials\", fontsize=16)\n",
        "ax.tick_params(which='both', labelsize=16)"
      ],
      "execution_count": null,
      "outputs": [
        {
          "output_type": "display_data",
          "data": {
            "image/png": "[encoded data removed]",
            "text/plain": [
              "<Figure size 720x432 with 1 Axes>"
            ]
          },
          "metadata": {
            "tags": [],
            "needs_background": "light"
          }
        }
      ]
    },
    {
      "cell_type": "code",
      "metadata": {
        "colab": {
          "base_uri": "https://localhost:8080/",
          "height": 398
        },
        "id": "S1vVpk5c_aCz",
        "outputId": "6be55531-5416-4b2b-ae59-5cd762af41dc"
      },
      "source": [
        "# Plot the best fit ns\n",
        "fig, ax = plt.subplots(figsize=(10,6))\n",
        "bins = np.linspace(0, 40, 150)\n",
        "\n",
        "ax.hist(ns_bg,\n",
        "        bins = bins,\n",
        "        weights = np.ones_like(ns_bg)/len(ns_bg),\n",
        "        histtype = 'step',\n",
        "        color = 'k',\n",
        "        linewidth = 3,\n",
        "        alpha=0.5,\n",
        "        label = r'Flux = 0',\n",
        "       )\n",
        "\n",
        "ax.hist(ns_111,\n",
        "        bins = bins,\n",
        "        weights = np.ones_like(ns_111)/len(ns_111),\n",
        "        histtype = 'step',\n",
        "        linewidth = 3,\n",
        "        alpha = 0.7,\n",
        "        label = r'Flux = 10^-11.1')\n",
        "\n",
        "ax.hist(ns_11,\n",
        "        bins = bins,\n",
        "        weights = np.ones_like(ns_11)/len(ns_11),\n",
        "        histtype = 'step',\n",
        "        linewidth = 3,\n",
        "        alpha = 0.7,\n",
        "        label = r'Flux = 10^-11')\n",
        "\n",
        "ax.hist(ns_109,\n",
        "        bins = bins,\n",
        "        weights = np.ones_like(ns_109)/len(ns_109),\n",
        "        histtype = 'step',\n",
        "        linewidth = 3,\n",
        "        alpha = 0.7,\n",
        "        label = r'Flux = 10^-10.9')\n",
        "\n",
        "ax.hist(ns_108,\n",
        "        bins = bins,\n",
        "        weights = np.ones_like(ns_108)/len(ns_108),\n",
        "        histtype = 'step',\n",
        "        linewidth = 3,\n",
        "        alpha = 0.7,\n",
        "        label = r'Flux = 10^-10.8')\n",
        "\n",
        "ax.hist(ns_107,\n",
        "        bins = bins,\n",
        "        weights = np.ones_like(ns_107)/len(ns_107),\n",
        "        histtype = 'step',\n",
        "        linewidth = 3,\n",
        "        alpha = 0.7,\n",
        "        label = r'Flux = 10^-10.7')\n",
        "\n",
        "ax.hist(ns_106,\n",
        "        bins = bins,\n",
        "        weights = np.ones_like(ns_106)/len(ns_106),\n",
        "        histtype = 'step',\n",
        "        linewidth = 3,\n",
        "        alpha = 0.7,\n",
        "        label = r'Flux = 10^-10.6')\n",
        "\n",
        "ax.hist(ns_105,\n",
        "        bins = bins,\n",
        "        weights = np.ones_like(ns_105)/len(ns_105),\n",
        "        histtype = 'step',\n",
        "        linewidth = 3,\n",
        "        alpha = 0.7,\n",
        "        label = r'Flux = 10^-10.5')\n",
        "\n",
        "ax.vlines(txs_ns, 0, 2.0, label = r'Unblinded value: {}'.format(round(txs_ns,2)),colors=['blue'])\n",
        "ax.legend(loc='upper right', fontsize=12,)\n",
        "plt.yscale('log')\n",
        "ax.grid(alpha=0.25)\n",
        "#ax.set_xlim(bins.min(), bins.max())\n",
        "ax.set_xlabel(\"NS\", fontsize=16)\n",
        "ax.set_ylabel(\"Fraction of Trials\", fontsize=16)\n",
        "ax.tick_params(which='both', labelsize=16)"
      ],
      "execution_count": null,
      "outputs": [
        {
          "output_type": "display_data",
          "data": {
            "image/png": "[encoded data removed]",
            "text/plain": [
              "<Figure size 720x432 with 1 Axes>"
            ]
          },
          "metadata": {
            "tags": [],
            "needs_background": "light"
          }
        }
      ]
    },
    {
      "cell_type": "code",
      "metadata": {
        "id": "RrE9224r_cEa"
      },
      "source": [
        "# Use this bit of code to save the numpy arrays outputted from trial runs as a '.npy' file\n",
        "# You will have to import 'os' and both the 'save' and 'load' libraries from the numpy library either\n",
        "# at the top with the others or here before you run the code to have both save and load functionality.\n",
        "# You can copy and paste from below or just uncomment:\n",
        "\n",
        "import os\n",
        "from numpy import save\n",
        "from numpy import load\n",
        "\n",
        "# Use the 'save()' funciton to save. The first argument is the filename and second is the numpy array\n",
        "# you wish to save. 'SAVEPATH' defines the path to save the file, 'RUNFOLDER' should be a unique name\n",
        "# to identify the run, and 'FILENAME' is the name of the particular file.\n",
        "# I've been using the following convention for naming files:\n",
        "\n",
        "# XXX##_*** , where:\n",
        "    # XXX is:\n",
        "        # BGD for background\n",
        "        # INJ for trials with n injections\n",
        "        # FLX for trials with flux norms\n",
        "    # ## is:\n",
        "        # 00 for BGD\n",
        "        # the number of injections for INJ; e.g. n_inj=10 --> ## = 10\n",
        "        # the negative exponent of the flux norm for FLX, where the first two numbers are before the decimal and the rest is after\n",
        "            # e.g. flux_norm = 1e-11 --> ## = 11\n",
        "            # e.g. flux_norm = 1e-10.125 --> ## = 10125\n",
        "    # *** is the number of trials in that run\n",
        "\n",
        "# Make a new folder for each run and name it in a way we can identify it.\n",
        "# 'TARGETARRAY' is the unzipped numpy array you want to save. Just copy and paste the array you want to save.\n",
        "# Repeat this code with the same runfolder for each array of the run.\n",
        "\n",
        "SAVEPATH = './TrialData/'\n",
        "RUNFOLDER = 'RUN3/'\n",
        "FILENAME = 'FLX105_1000test'\n",
        "TARGETARRAY = best_fit_arr_105\n",
        "\n",
        "#This just creates the runfolder if it doesn't already exist\n",
        "if not os.path.exists(SAVEPATH+RUNFOLDER):\n",
        "    os.makedirs(SAVEPATH+RUNFOLDER)\n",
        "\n",
        "save(SAVEPATH+RUNFOLDER+FILENAME, TARGETARRAY)"
      ],
      "execution_count": null,
      "outputs": []
    },
    {
      "cell_type": "code",
      "metadata": {
        "colab": {
          "base_uri": "https://localhost:8080/"
        },
        "id": "kQiyucyj_d1h",
        "outputId": "b0896290-2371-4b9e-8618-d867f9444e78"
      },
      "source": [
        "#finding 10% and mean \n",
        "ten_ts_111 = np.percentile(ts_111,10)\n",
        "mean_ts_111 = np.mean(ts_111)\n",
        "\n",
        "ten_ts_11 = np.percentile(ts_11,10)\n",
        "mean_ts_11 = np.mean(ts_11)\n",
        "\n",
        "ten_ts_109 = np.percentile(ts_109,10)\n",
        "mean_ts_109 = np.mean(ts_109)\n",
        "\n",
        "ten_ts_108 = np.percentile(ts_108,10)\n",
        "mean_ts_108 = np.mean(ts_108)\n",
        "\n",
        "ten_ts_107 = np.percentile(ts_107,10)\n",
        "mean_ts_107 = np.mean(ts_107)\n",
        "\n",
        "ten_ts_106 = np.percentile(ts_106,10)\n",
        "mean_ts_106 = np.mean(ts_106)\n",
        "\n",
        "ten_ts_105 = np.percentile(ts_105,10)\n",
        "mean_ts_105 = np.mean(ts_105)\n",
        "\n",
        "#finding 3 sigma and mean of bg\n",
        "mean_ts_bg = np.mean(ts_bg) \n",
        "threesig_ts_bg = np.percentile(ts_bg,99.85)\n",
        "\n",
        "# Print the results\n",
        "print('The mean and 3 sigma of the background TS: ')\n",
        "print(mean_ts_bg, threesig_ts_bg)\n",
        "\n",
        "print('\\n')\n",
        "print('The mean and 10% value of flux 10^-11.1: ')\n",
        "print(mean_ts_111,ten_ts_111)\n",
        "\n",
        "print('\\n')\n",
        "print('The mean and 10% value of flux 10^-11: ')\n",
        "print(mean_ts_11,ten_ts_11)\n",
        "\n",
        "print('\\n')\n",
        "print('The mean and 10% value of flux 10^-10.9: ')\n",
        "print(mean_ts_109,ten_ts_109)\n",
        "\n",
        "print('\\n')\n",
        "print('The mean and 10% value of flux 10^-10.8: ')\n",
        "print(mean_ts_108,ten_ts_108)\n",
        "\n",
        "print('\\n')\n",
        "print('The mean and 10% value of flux 10^-10.7: ')\n",
        "print(mean_ts_107,ten_ts_107)\n",
        "\n",
        "print('\\n')\n",
        "print('The mean and 10% value of flux 10^-10.6: ')\n",
        "print(mean_ts_106,ten_ts_106)\n",
        "\n",
        "print('\\n')\n",
        "print('The mean and 10% value of flux 10^-10.5: ')\n",
        "print(mean_ts_105,ten_ts_105)\n",
        "\n",
        "print('\\n')\n",
        "print('For sensitivity level, the 10th percentile of a certain flux level will be the mean of the background data. ')\n",
        "#rint('For a 3 sigma discovery level, the mean of a certain flux level will be the 99.85% of the background data')\n",
        "print('For discovery level, the 10th percentile of a certain flux will be at the 99.85th percentile of the background data')\n",
        "\n",
        "#print('\\n\\n\\nThe mean, 50th, and 10th percentile of the ' + TRIALNAME + ' trial set TS and NS: \\n TS')\n",
        "#print(mean_ts_trial, fifty_ts_trial, ten_ts_trial)\n",
        "#print('\\n NS')\n",
        "#print(mean_ns_trial, fifty_ns_trial, ten_ns_trial)"
      ],
      "execution_count": null,
      "outputs": [
        {
          "output_type": "stream",
          "text": [
            "The mean and 3 sigma of the background TS: \n",
            "0.2163836514446216 7.7671123102967625\n",
            "\n",
            "\n",
            "The mean and 10% value of flux 10^-11.1: \n",
            "8.988180766837662 0.0\n",
            "\n",
            "\n",
            "The mean and 10% value of flux 10^-11: \n",
            "10.912094425567865 0.0\n",
            "\n",
            "\n",
            "The mean and 10% value of flux 10^-10.9: \n",
            "15.868860688760309 0.5252069601323202\n",
            "\n",
            "\n",
            "The mean and 10% value of flux 10^-10.8: \n",
            "20.20355408000846 3.4342734271759467\n",
            "\n",
            "\n",
            "The mean and 10% value of flux 10^-10.7: \n",
            "27.022213132296827 6.7358898820948\n",
            "\n",
            "\n",
            "The mean and 10% value of flux 10^-10.6: \n",
            "36.71377632406712 11.456972906709659\n",
            "\n",
            "\n",
            "The mean and 10% value of flux 10^-10.5: \n",
            "50.70708595878476 19.669566041975365\n",
            "\n",
            "\n",
            "For sensitivity level, the 10th percentile of a certain flux level will be the mean of the background data. \n",
            "For discovery level, the 10th percentile of a certain flux will be at the 99.85th percentile of the background data\n"
          ],
          "name": "stdout"
        }
      ]
    },
    {
      "cell_type": "code",
      "metadata": {
        "colab": {
          "base_uri": "https://localhost:8080/"
        },
        "id": "hQzJXqQm_fz_",
        "outputId": "37e4c970-433c-4697-a27e-224b4a34418c"
      },
      "source": [
        "#SENSITIVITY VALUE:\n",
        "#mean background = .24, so 10th percentile of a flux level should = .24\n",
        "#sensitivity flux value is in between 10^-11 and 10^-10.9\n",
        "\n",
        "#DISCOVERY VALUE:\n",
        "#3 sigma of the background = 8.1, so 10th percentile of a flux level should = 8.1\n",
        "#discovery flux value should be between 10^-10.7 and 10^-10.6\n",
        "\n",
        "\n",
        "#Using linear interpolation to find the flux values for the discovery and sensitivity levels\n",
        "sen_flux = -11+((mean_ts_bg-ten_ts_11)*(-10.9-(-11))/(ten_ts_109-ten_ts_11))\n",
        "print('The flux norm for sensitivity: ')\n",
        "print(sen_flux)\n",
        "\n",
        "disc_flux = -10.7+((threesig_ts_bg-ten_ts_107)*(-10.6-(-10.7))/(ten_ts_106-ten_ts_107))\n",
        "print('\\n')\n",
        "print('The flux norm for discovery: ')\n",
        "print(disc_flux)"
      ],
      "execution_count": null,
      "outputs": [
        {
          "output_type": "stream",
          "text": [
            "The flux norm for sensitivity: \n",
            "-10.958800307712963\n",
            "\n",
            "\n",
            "The flux norm for discovery: \n",
            "-10.6781570791527\n"
          ],
          "name": "stdout"
        }
      ]
    }
  ]
}